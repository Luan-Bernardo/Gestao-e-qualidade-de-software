{
 "cells": [
  {
   "cell_type": "code",
   "execution_count": null,
   "metadata": {
    "executionInfo": {
     "elapsed": 8,
     "status": "ok",
     "timestamp": 1761265007140,
     "user": {
      "displayName": "Luan Bernardo",
      "userId": "04993506811173901598"
     },
     "user_tz": 180
    },
    "id": "yCP3SyTYeuOO"
   },
   "outputs": [],
   "source": [
    "def imc(a, b):\n",
    "    imc = a / (b * b)\n",
    "    if imc < 18.5:\n",
    "        print(\"IMC:\", imc)\n",
    "        print(\"Abaixo do peso\")\n",
    "    elif imc >= 18.5 and imc < 25:\n",
    "        print(\"IMC:\", imc)\n",
    "        print(\"Peso normal\")\n",
    "    elif imc >= 25 and imc < 30:\n",
    "        print(\"IMC:\", imc)\n",
    "        print(\"Sobrepeso\")\n",
    "    else:\n",
    "        print(\"IMC:\", imc)\n",
    "        print(\"Obesidade\")"
   ]
  },
  {
   "cell_type": "markdown",
   "metadata": {
    "id": "CPT3QMvne8v-"
   },
   "source": [
    "problemas:\n",
    "\n",
    "1.   função longa com calculos, classificação e saída juntos\n",
    "2.   Código duplicado diversas vezes\n",
    "3.   váriaveis com nomes genéricos"
   ]
  },
  {
   "cell_type": "code",
   "execution_count": 6,
   "metadata": {
    "executionInfo": {
     "elapsed": 2,
     "status": "ok",
     "timestamp": 1761265007148,
     "user": {
      "displayName": "Luan Bernardo",
      "userId": "04993506811173901598"
     },
     "user_tz": 180
    },
    "id": "vybPuLBihNSI"
   },
   "outputs": [],
   "source": [
    "# Código refatorado\n",
    "\n",
    "def calcular_imc(peso, altura):\n",
    "    # Calcula o IMC de uma pessoa\n",
    "    return peso / (altura ** 2)\n",
    "\n",
    "\n",
    "def classificar_imc(valor_imc):\n",
    "    # Retorna a categoria correspondente ao IMC\n",
    "    if valor_imc < 18.5:\n",
    "        return \"Abaixo do peso\"\n",
    "    elif valor_imc < 25:\n",
    "        return \"Peso normal\"\n",
    "    elif valor_imc < 30:\n",
    "        return \"Sobrepeso\"\n",
    "    return \"Obesidade\"\n",
    "\n",
    "\n",
    "def exibir_resultado(peso, altura):\n",
    "    # Calcula e exibe o IMC e sua classificação\n",
    "    imc = calcular_imc(peso, altura)\n",
    "    classificacao = classificar_imc(imc)\n",
    "    print(f\"IMC: {imc:.2f}\")\n",
    "    print(f\"Classificação: {classificacao}\")"
   ]
  },
  {
   "cell_type": "markdown",
   "metadata": {
    "id": "0niOkmTIhkG1"
   },
   "source": [
    "Refatoração\n",
    "\n",
    "1.   extração da única função para funções menores separando cálculo, classificação e exibição\n",
    "2.   duplicação removida, o print dom IMC foi centralizado em uma única função\n",
    "1.   variavéis renomeadas e bem identificadas\n",
    "\n",
    "\n"
   ]
  }
 ],
 "metadata": {
  "colab": {
   "authorship_tag": "ABX9TyOrSM/6pAO/I2YO74+5XSqq",
   "provenance": []
  },
  "kernelspec": {
   "display_name": "Python 3",
   "name": "python3"
  },
  "language_info": {
   "name": "python"
  }
 },
 "nbformat": 4,
 "nbformat_minor": 0
}
