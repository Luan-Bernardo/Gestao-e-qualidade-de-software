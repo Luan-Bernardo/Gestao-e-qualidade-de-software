{
  "nbformat": 4,
  "nbformat_minor": 0,
  "metadata": {
    "colab": {
      "provenance": [],
      "collapsed_sections": [
        "quxD96eY_kvp",
        "HWQJw4_A_2oQ",
        "m8CIryQiAALn",
        "idL6JbflBusC",
        "XsNxbd1fCT4o",
        "XUmzz3PdCpH0",
        "csLXrs8bCrsU"
      ],
      "include_colab_link": true
    },
    "kernelspec": {
      "name": "python3",
      "display_name": "Python 3"
    },
    "language_info": {
      "name": "python"
    }
  },
  "cells": [
    {
      "cell_type": "markdown",
      "metadata": {
        "id": "view-in-github",
        "colab_type": "text"
      },
      "source": [
        "<a href=\"https://colab.research.google.com/github/Luan-Bernardo/Gestao-e-qualidade-de-software/blob/main/Atividades_Testes_Unit%C3%A1rios.ipynb\" target=\"_parent\"><img src=\"https://colab.research.google.com/assets/colab-badge.svg\" alt=\"Open In Colab\"/></a>"
      ]
    },
    {
      "cell_type": "markdown",
      "source": [
        "## **ATIVIDADE 1**"
      ],
      "metadata": {
        "id": "quxD96eY_kvp"
      }
    },
    {
      "cell_type": "code",
      "source": [
        "def is_par(n: int) -> bool:\n",
        "    return n % 2 == 0\n"
      ],
      "metadata": {
        "id": "KkGXQCnf_qrx"
      },
      "execution_count": null,
      "outputs": []
    },
    {
      "cell_type": "code",
      "source": [
        "import unittest\n",
        "\n",
        "class TestIsPar(unittest.TestCase):\n",
        "\n",
        "    def test_numero_par(self):\n",
        "        self.assertTrue(is_par(4))\n",
        "\n",
        "    def test_numero_impar(self):\n",
        "        self.assertFalse(is_par(5))\n",
        "\n",
        "    def test_zero(self):\n",
        "        self.assertTrue(is_par(0))\n",
        "    def test_negativo(self):\n",
        "        self.assertTrue(is_par(-2))\n",
        "        self.assertFalse(is_par(-3))\n",
        "\n",
        "unittest.main(argv=[''], exit=False)\n"
      ],
      "metadata": {
        "colab": {
          "base_uri": "https://localhost:8080/"
        },
        "id": "7-L4XNmr_viT",
        "outputId": "91730cbc-fd4e-4f6c-a82d-5a5f1a62346c"
      },
      "execution_count": null,
      "outputs": [
        {
          "output_type": "stream",
          "name": "stderr",
          "text": [
            "....\n",
            "----------------------------------------------------------------------\n",
            "Ran 4 tests in 0.015s\n",
            "\n",
            "OK\n"
          ]
        },
        {
          "output_type": "execute_result",
          "data": {
            "text/plain": [
              "<unittest.main.TestProgram at 0x7b570b317f80>"
            ]
          },
          "metadata": {},
          "execution_count": 3
        }
      ]
    },
    {
      "cell_type": "markdown",
      "source": [
        "## **ATIVIDADE 2**"
      ],
      "metadata": {
        "id": "HWQJw4_A_2oQ"
      }
    },
    {
      "cell_type": "code",
      "source": [
        "def fatorial(n: int) -> int:\n",
        "    if n < 0:\n",
        "        raise ValueError(\"Não existe fatorial de número negativo.\")\n",
        "    if n == 0:\n",
        "        return 1\n",
        "\n",
        "    resultado = 1\n",
        "    for i in range(1, n + 1):\n",
        "        resultado *= i\n",
        "    return resultado\n"
      ],
      "metadata": {
        "id": "tvSmS4n4_5EI"
      },
      "execution_count": null,
      "outputs": []
    },
    {
      "cell_type": "code",
      "source": [
        "import unittest\n",
        "\n",
        "class TestFatorial(unittest.TestCase):\n",
        "\n",
        "    def test_fatorial_zero(self):\n",
        "        self.assertEqual(fatorial(0), 1)\n",
        "\n",
        "    def test_fatorial_positivo(self):\n",
        "        self.assertEqual(fatorial(5), 120)\n",
        "\n",
        "    def test_fatorial_negativo(self):\n",
        "        with self.assertRaises(ValueError):\n",
        "            fatorial(-1)\n",
        "\n",
        "unittest.main(argv=[''], exit=False)\n"
      ],
      "metadata": {
        "colab": {
          "base_uri": "https://localhost:8080/"
        },
        "id": "2k8XcKJr_8nx",
        "outputId": "de511aa8-a2d9-4a37-e6d6-65a46cabbb2b"
      },
      "execution_count": null,
      "outputs": [
        {
          "output_type": "stream",
          "name": "stderr",
          "text": [
            ".......\n",
            "----------------------------------------------------------------------\n",
            "Ran 7 tests in 0.008s\n",
            "\n",
            "OK\n"
          ]
        },
        {
          "output_type": "execute_result",
          "data": {
            "text/plain": [
              "<unittest.main.TestProgram at 0x7b570b3177d0>"
            ]
          },
          "metadata": {},
          "execution_count": 5
        }
      ]
    },
    {
      "cell_type": "markdown",
      "source": [
        "## **ATIVIDADE 3**"
      ],
      "metadata": {
        "id": "m8CIryQiAALn"
      }
    },
    {
      "cell_type": "code",
      "source": [
        "class InsufficientFunds(Exception):\n",
        "    pass\n",
        "\n",
        "class Conta:\n",
        "    def __init__(self):\n",
        "        self.saldo = 0\n",
        "\n",
        "    def depositar(self, amount: float):\n",
        "        if amount <= 0:\n",
        "            raise ValueError(\"Depósito deve ser positivo\")\n",
        "        self.saldo += amount\n",
        "\n",
        "    def sacar(self, amount: float):\n",
        "        if amount <= 0:\n",
        "            raise ValueError(\"Saque deve ser positivo\")\n",
        "        if amount > self.saldo:\n",
        "            raise InsufficientFunds(\"Saldo insuficiente\")\n",
        "        self.saldo -= amount\n"
      ],
      "metadata": {
        "id": "jjer2UPIAGCv"
      },
      "execution_count": null,
      "outputs": []
    },
    {
      "cell_type": "code",
      "source": [
        "import unittest\n",
        "\n",
        "class TestConta(unittest.TestCase):\n",
        "\n",
        "    def setUp(self):\n",
        "        self.conta = Conta()\n",
        "    def test_deposito_valido(self):\n",
        "        self.conta.depositar(100)\n",
        "        self.assertEqual(self.conta.saldo, 100)\n",
        "\n",
        "    def test_deposito_invalido(self):\n",
        "        with self.assertRaises(ValueError):\n",
        "            self.conta.depositar(-50)\n",
        "\n",
        "    def test_saque_valido(self):\n",
        "        self.conta.depositar(200)\n",
        "        self.conta.sacar(50)\n",
        "        self.assertEqual(self.conta.saldo, 150)\n",
        "\n",
        "    def test_saque_insuficiente(self):\n",
        "        self.conta.depositar(50)\n",
        "        with self.assertRaises(InsufficientFunds):\n",
        "            self.conta.sacar(100)\n",
        "\n",
        "    def test_saque_invalido(self):\n",
        "        with self.assertRaises(ValueError):\n",
        "            self.conta.sacar(-10)\n",
        "\n",
        "unittest.main(argv=[''], exit=False)\n"
      ],
      "metadata": {
        "colab": {
          "base_uri": "https://localhost:8080/"
        },
        "id": "bswozx4WAIrv",
        "outputId": "2ac3a31a-e171-45ce-feeb-a4421d54c709"
      },
      "execution_count": null,
      "outputs": [
        {
          "output_type": "stream",
          "name": "stderr",
          "text": [
            "............\n",
            "----------------------------------------------------------------------\n",
            "Ran 12 tests in 0.013s\n",
            "\n",
            "OK\n"
          ]
        },
        {
          "output_type": "execute_result",
          "data": {
            "text/plain": [
              "<unittest.main.TestProgram at 0x7b570b317ec0>"
            ]
          },
          "metadata": {},
          "execution_count": 7
        }
      ]
    },
    {
      "cell_type": "markdown",
      "source": [
        "## **ATIVIDADE 4**"
      ],
      "metadata": {
        "id": "idL6JbflBusC"
      }
    },
    {
      "cell_type": "code",
      "source": [
        "import requests\n",
        "\n",
        "def buscar_clima(cidade: str) -> float:\n",
        "    url = f\"https://api.exemplo/clima?cidade={cidade}\"\n",
        "    resposta = requests.get(url)\n",
        "    dados = resposta.json()\n",
        "    if \"temperatura\" not in dados:\n",
        "        raise ValueError(\"Resposta inválida: sem temperatura\")\n",
        "    return dados[\"temperatura\"]\n"
      ],
      "metadata": {
        "id": "Z4kIiHScAZTi"
      },
      "execution_count": null,
      "outputs": []
    },
    {
      "cell_type": "code",
      "source": [
        "from unittest.mock import patch\n",
        "\n",
        "class TestBuscarClima(unittest.TestCase):\n",
        "\n",
        "    @patch(\"requests.get\")\n",
        "    def test_retorna_temperatura(self, mock_get):\n",
        "        mock_get.return_value.json.return_value = {\"temperatura\": 25}\n",
        "        temp = buscar_clima(\"São Paulo\")\n",
        "        self.assertEqual(temp, 25)\n",
        "\n",
        "    @patch(\"requests.get\")\n",
        "    def test_resposta_invalida(self, mock_get):\n",
        "        mock_get.return_value.json.return_value = {}\n",
        "        with self.assertRaises(ValueError):\n",
        "            buscar_clima(\"São Paulo\")\n",
        "\n",
        "unittest.main(argv=[''], exit=False)\n"
      ],
      "metadata": {
        "colab": {
          "base_uri": "https://localhost:8080/"
        },
        "id": "VCY86h7nBCpd",
        "outputId": "2bdf7aff-e5e0-4ca9-99d2-dbb2ab17e9cc"
      },
      "execution_count": null,
      "outputs": [
        {
          "output_type": "stream",
          "name": "stderr",
          "text": [
            "..............\n",
            "----------------------------------------------------------------------\n",
            "Ran 14 tests in 0.018s\n",
            "\n",
            "OK\n"
          ]
        },
        {
          "output_type": "execute_result",
          "data": {
            "text/plain": [
              "<unittest.main.TestProgram at 0x7b570a73a450>"
            ]
          },
          "metadata": {},
          "execution_count": 11
        }
      ]
    },
    {
      "cell_type": "markdown",
      "source": [
        "# **Exemplo 1**"
      ],
      "metadata": {
        "id": "XsNxbd1fCT4o"
      }
    },
    {
      "cell_type": "code",
      "source": [
        "# Função a ser testada\n",
        "def soma(a, b):\n",
        "    return a + b\n"
      ],
      "metadata": {
        "id": "0xmSaA9xC8wM"
      },
      "execution_count": null,
      "outputs": []
    },
    {
      "cell_type": "code",
      "source": [
        "import unittest\n",
        "\n",
        "class TestSoma(unittest.TestCase):\n",
        "\n",
        "    def test_soma_positivos(self):\n",
        "        self.assertEqual(soma(2, 3), 5)\n",
        "\n",
        "    def test_soma_zero(self):\n",
        "        self.assertEqual(soma(0, 5), 5)\n",
        "\n",
        "    def test_soma_negativos(self):\n",
        "        self.assertEqual(soma(-2, -3), -5)\n",
        "\n",
        "# Importante no Colab para rodar sem erros\n",
        "if __name__ == '__main__':\n",
        "    unittest.main(argv=['first-arg-is-ignored'], exit=False)\n"
      ],
      "metadata": {
        "colab": {
          "base_uri": "https://localhost:8080/"
        },
        "id": "PHZk3SD8DTY9",
        "outputId": "a6fade85-dc77-45a0-a289-5affd0ace83c"
      },
      "execution_count": null,
      "outputs": [
        {
          "output_type": "stream",
          "name": "stderr",
          "text": [
            ".................\n",
            "----------------------------------------------------------------------\n",
            "Ran 17 tests in 0.027s\n",
            "\n",
            "OK\n"
          ]
        }
      ]
    },
    {
      "cell_type": "markdown",
      "source": [
        "# **Exemplo 2**"
      ],
      "metadata": {
        "id": "XUmzz3PdCpH0"
      }
    },
    {
      "cell_type": "code",
      "source": [
        "%%writefile calc.py\n",
        "def soma(a, b):\n",
        "    return a + b\n",
        "\n",
        "def quadrado(x):\n",
        "    return x * x\n"
      ],
      "metadata": {
        "colab": {
          "base_uri": "https://localhost:8080/"
        },
        "id": "lYHwoIoODmCB",
        "outputId": "d5a3d7b2-e343-4b3a-d7f6-7a78071ea458"
      },
      "execution_count": null,
      "outputs": [
        {
          "output_type": "stream",
          "name": "stdout",
          "text": [
            "Writing calc.py\n"
          ]
        }
      ]
    },
    {
      "cell_type": "code",
      "source": [
        "%%writefile test_calc.py\n",
        "from calc import soma, quadrado\n",
        "\n",
        "def test_soma_positivos():\n",
        "    assert soma(2, 3) == 5\n",
        "\n",
        "def test_quadrado():\n",
        "    assert quadrado(4) == 16\n"
      ],
      "metadata": {
        "colab": {
          "base_uri": "https://localhost:8080/"
        },
        "id": "Ee41XPiUD86l",
        "outputId": "5a763c1a-e807-40ce-eedd-b5090f42f239"
      },
      "execution_count": null,
      "outputs": [
        {
          "output_type": "stream",
          "name": "stdout",
          "text": [
            "Writing test_calc.py\n"
          ]
        }
      ]
    },
    {
      "cell_type": "code",
      "source": [
        "!pip install pytest -q\n",
        "!pytest -q -k test_calc.py\n"
      ],
      "metadata": {
        "colab": {
          "base_uri": "https://localhost:8080/"
        },
        "id": "7tX0XgfoEDk6",
        "outputId": "d4139c95-a6e1-4168-8314-2e68ef50869d"
      },
      "execution_count": null,
      "outputs": [
        {
          "output_type": "stream",
          "name": "stdout",
          "text": [
            "\u001b[32m.\u001b[0m\u001b[32m.\u001b[0m\u001b[32m                                                                       [100%]\u001b[0m\n",
            "\u001b[32m\u001b[32m\u001b[1m2 passed\u001b[0m\u001b[32m in 0.05s\u001b[0m\u001b[0m\n"
          ]
        }
      ]
    },
    {
      "cell_type": "markdown",
      "source": [
        "# **Exemplo 3**"
      ],
      "metadata": {
        "id": "csLXrs8bCrsU"
      }
    },
    {
      "cell_type": "code",
      "source": [
        "%%writefile account.py\n",
        "class InsufficientFunds(Exception):\n",
        "    pass\n",
        "\n",
        "class BankAccount:\n",
        "    def __init__(self, balance=0):\n",
        "        self.balance = balance\n",
        "\n",
        "    def deposit(self, amount):\n",
        "        if amount <= 0:\n",
        "            raise ValueError(\"amount must be positive\")\n",
        "        self.balance += amount\n",
        "\n",
        "    def withdraw(self, amount):\n",
        "        if amount > self.balance:\n",
        "            raise InsufficientFunds(\"not enough balance\")\n",
        "        self.balance -= amount\n"
      ],
      "metadata": {
        "colab": {
          "base_uri": "https://localhost:8080/"
        },
        "id": "Ktk--7G8EMKI",
        "outputId": "20b66113-6d74-42f9-e423-a86a0b1d2559"
      },
      "execution_count": null,
      "outputs": [
        {
          "output_type": "stream",
          "name": "stdout",
          "text": [
            "Writing account.py\n"
          ]
        }
      ]
    },
    {
      "cell_type": "code",
      "source": [
        "%%writefile test_account_unittest.py\n",
        "import unittest\n",
        "from account import BankAccount, InsufficientFunds\n",
        "\n",
        "class TestBankAccount(unittest.TestCase):\n",
        "    def setUp(self):\n",
        "        self.acc = BankAccount(100)\n",
        "\n",
        "    def test_deposit(self):\n",
        "        self.acc.deposit(50)\n",
        "        self.assertEqual(self.acc.balance, 150)\n",
        "\n",
        "    def test_withdraw_success(self):\n",
        "        self.acc.withdraw(40)\n",
        "        self.assertEqual(self.acc.balance, 60)\n",
        "\n",
        "    def test_withdraw_insufficient(self):\n",
        "        with self.assertRaises(InsufficientFunds):\n",
        "            self.acc.withdraw(200)\n",
        "\n",
        "if __name__ == \"__main__\":\n",
        "    unittest.main(argv=[\"first-arg-is-ignored\"], exit=False)\n"
      ],
      "metadata": {
        "colab": {
          "base_uri": "https://localhost:8080/"
        },
        "id": "OBJ7_l47EYdi",
        "outputId": "cb71c5b1-c9a9-42b6-e476-9a5f59363a92"
      },
      "execution_count": null,
      "outputs": [
        {
          "output_type": "stream",
          "name": "stdout",
          "text": [
            "Writing test_account_unittest.py\n"
          ]
        }
      ]
    },
    {
      "cell_type": "code",
      "source": [
        "!pip install pytest -q\n",
        "!pytest -q test_account_unittest.py\n"
      ],
      "metadata": {
        "colab": {
          "base_uri": "https://localhost:8080/"
        },
        "id": "suyy1HkYEjPJ",
        "outputId": "cb9dbf1f-2025-4670-be73-339d5055b563"
      },
      "execution_count": null,
      "outputs": [
        {
          "output_type": "stream",
          "name": "stdout",
          "text": [
            "\u001b[32m.\u001b[0m\u001b[32m.\u001b[0m\u001b[32m.\u001b[0m\u001b[32m                                                                      [100%]\u001b[0m\n",
            "\u001b[32m\u001b[32m\u001b[1m3 passed\u001b[0m\u001b[32m in 0.02s\u001b[0m\u001b[0m\n"
          ]
        }
      ]
    },
    {
      "cell_type": "markdown",
      "source": [
        "# **Exemplo 4**"
      ],
      "metadata": {
        "id": "5hqI-qQaCtSl"
      }
    },
    {
      "cell_type": "code",
      "source": [
        "%%writefile service.py\n",
        "import requests\n",
        "\n",
        "def get_username(user_id):\n",
        "    r = requests.get(f'https://api.example.com/users/%7Buser_id%7D')\n",
        "    data = r.json()\n",
        "    return data.get('name')"
      ],
      "metadata": {
        "colab": {
          "base_uri": "https://localhost:8080/"
        },
        "id": "i_OtQfDvClcT",
        "outputId": "c8d4696f-3487-4f41-aa88-9f9c2e6c71a9"
      },
      "execution_count": null,
      "outputs": [
        {
          "output_type": "stream",
          "name": "stdout",
          "text": [
            "Writing service.py\n"
          ]
        }
      ]
    },
    {
      "cell_type": "code",
      "source": [
        "%%writefile test_service.py\n",
        "from unittest.mock import patch, Mock\n",
        "from service import get_username\n",
        "\n",
        "@patch('service.requests.get')\n",
        "def test_get_username(mock_get):\n",
        "    mock_resp = Mock()\n",
        "    mock_resp.json.return_value = {'name': 'Alice'}\n",
        "    mock_get.return_value = mock_resp\n",
        "\n",
        "    assert get_username(123) == 'Alice'"
      ],
      "metadata": {
        "colab": {
          "base_uri": "https://localhost:8080/"
        },
        "id": "XRWcTiwZE7xC",
        "outputId": "12fd8a13-3879-4cb1-c7c8-a5291e9f63bb"
      },
      "execution_count": null,
      "outputs": [
        {
          "output_type": "stream",
          "name": "stdout",
          "text": [
            "Writing test_service.py\n"
          ]
        }
      ]
    },
    {
      "cell_type": "code",
      "source": [
        "!pytest -q test_service.py"
      ],
      "metadata": {
        "colab": {
          "base_uri": "https://localhost:8080/"
        },
        "id": "az4pnkmrFDMo",
        "outputId": "abd12435-fc7b-4e8c-dbac-1fba0fff9020"
      },
      "execution_count": null,
      "outputs": [
        {
          "output_type": "stream",
          "name": "stdout",
          "text": [
            "\u001b[32m.\u001b[0m\u001b[32m                                                                        [100%]\u001b[0m\n",
            "\u001b[32m\u001b[32m\u001b[1m1 passed\u001b[0m\u001b[32m in 0.01s\u001b[0m\u001b[0m\n"
          ]
        }
      ]
    }
  ]
}